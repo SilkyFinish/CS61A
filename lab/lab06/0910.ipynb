{
 "cells": [
  {
   "cell_type": "code",
   "execution_count": 3,
   "metadata": {},
   "outputs": [
    {
     "ename": "IndexError",
     "evalue": "list index out of range",
     "output_type": "error",
     "traceback": [
      "\u001b[1;31m---------------------------------------------------------------------------\u001b[0m",
      "\u001b[1;31mIndexError\u001b[0m                                Traceback (most recent call last)",
      "Cell \u001b[1;32mIn[3], line 47\u001b[0m\n\u001b[0;32m     45\u001b[0m b \u001b[38;5;241m=\u001b[39m Client(s, \u001b[38;5;124m'\u001b[39m\u001b[38;5;124mBob\u001b[39m\u001b[38;5;124m'\u001b[39m)\n\u001b[0;32m     46\u001b[0m a\u001b[38;5;241m.\u001b[39mcompose(\u001b[38;5;124m'\u001b[39m\u001b[38;5;124mHello, World!\u001b[39m\u001b[38;5;124m'\u001b[39m, \u001b[38;5;124m'\u001b[39m\u001b[38;5;124mBob\u001b[39m\u001b[38;5;124m'\u001b[39m)\n\u001b[1;32m---> 47\u001b[0m \u001b[43mb\u001b[49m\u001b[38;5;241;43m.\u001b[39;49m\u001b[43minbox\u001b[49m\u001b[43m[\u001b[49m\u001b[38;5;241;43m0\u001b[39;49m\u001b[43m]\u001b[49m\u001b[38;5;241m.\u001b[39mmsg\n\u001b[0;32m     48\u001b[0m \u001b[38;5;124;03m'''    \u001b[39;00m\n\u001b[0;32m     49\u001b[0m \u001b[38;5;124;03ma.compose('CS 61A Rocks!', 'Bob')\u001b[39;00m\n\u001b[0;32m     50\u001b[0m \u001b[38;5;124;03mlen(b.inbox)\u001b[39;00m\n\u001b[1;32m   (...)\u001b[0m\n\u001b[0;32m     54\u001b[0m \u001b[38;5;124;03mb.inbox[1].sender.name\u001b[39;00m\n\u001b[0;32m     55\u001b[0m \u001b[38;5;124;03m'''\u001b[39;00m   \n",
      "\u001b[1;31mIndexError\u001b[0m: list index out of range"
     ]
    }
   ],
   "source": [
    "class Email:\n",
    "    \"\"\"An email has the following instance attributes:\n",
    "\n",
    "        msg (str): the contents of the message\n",
    "        sender (Client): the client that sent the email\n",
    "        recipient_name (str): the name of the recipient (another client)\n",
    "    \"\"\"\n",
    "    def __init__(self, msg, sender, recipient_name):\n",
    "        self.msg = msg\n",
    "        self.sender = sender\n",
    "        self.recipient_name = recipient_name\n",
    "\n",
    "class Server:\n",
    "    \"\"\"Each Server has one instance attribute called clients that is a\n",
    "    dictionary from client names to client objects.\n",
    "    \"\"\"\n",
    "    def __init__(self):\n",
    "        self.clients = {}\n",
    "\n",
    "    def send(self, email):\n",
    "        \"\"\"Append the email to the inbox of the client it is addressed to.\"\"\"\n",
    "        Client(self,email.recipient_name).inbox.append(email)\n",
    "\n",
    "    def register_client(self, client):\n",
    "        \"\"\"Add a client to the dictionary of clients.\"\"\"\n",
    "        self.clients[client.name] =client\n",
    "\n",
    "class Client:\n",
    "    \n",
    "    def __init__(self, server, name):\n",
    "        self.inbox = []\n",
    "        self.server = server\n",
    "        self.name = name\n",
    "        server.register_client(self)\n",
    "\n",
    "    def compose(self, message, recipient_name):\n",
    "        \"\"\"Send an email with the given message to the recipient.\"\"\"\n",
    "        email = Email(message, self.name,recipient_name )\n",
    "        self.server.send(email)\n",
    "\n",
    "\n",
    "\n",
    "s = Server()\n",
    "a = Client(s, 'Alice')\n",
    "b = Client(s, 'Bob')\n",
    "a.compose('Hello, World!', 'Bob')\n",
    "b.inbox[0].msg\n",
    "'''    \n",
    "a.compose('CS 61A Rocks!', 'Bob')\n",
    "len(b.inbox)\n",
    "    \n",
    "b.inbox[1].msg\n",
    "    \n",
    "b.inbox[1].sender.name\n",
    "'''   \n",
    " "
   ]
  }
 ],
 "metadata": {
  "kernelspec": {
   "display_name": "base",
   "language": "python",
   "name": "python3"
  },
  "language_info": {
   "codemirror_mode": {
    "name": "ipython",
    "version": 3
   },
   "file_extension": ".py",
   "mimetype": "text/x-python",
   "name": "python",
   "nbconvert_exporter": "python",
   "pygments_lexer": "ipython3",
   "version": "3.11.5"
  }
 },
 "nbformat": 4,
 "nbformat_minor": 2
}
