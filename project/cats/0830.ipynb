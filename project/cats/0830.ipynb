{
 "cells": [
  {
   "cell_type": "code",
   "execution_count": 4,
   "metadata": {},
   "outputs": [
    {
     "data": {
      "text/plain": [
       "'7VNVwiz6'"
      ]
     },
     "execution_count": 4,
     "metadata": {},
     "output_type": "execute_result"
    }
   ],
   "source": [
    "def pick(paragraphs, select, k):\n",
    "    \"\"\"Return the Kth paragraph from PARAGRAPHS for which SELECT called on the\n",
    "    paragraph returns True. If there are fewer than K such paragraphs, return\n",
    "    the empty string.\n",
    "\n",
    "    Arguments:\n",
    "        paragraphs: a list of strings\n",
    "        select: a function that returns True for paragraphs that can be selected\n",
    "        k: an integer\n",
    "\n",
    "    >>> ps = ['hi', 'how are you', 'fine']\n",
    "    >>> s = lambda p: len(p) <= 4\n",
    "    >>> pick(ps, s, 0)\n",
    "    'hi'\n",
    "    >>> pick(ps, s, 1)\n",
    "    'fine'\n",
    "    >>> pick(ps, s, 2)\n",
    "    ''\n",
    "    \"\"\"\n",
    "    # BEGIN PROBLEM 1\n",
    "    \"*** YOUR CODE HERE ***\"\n",
    "    # END PROBLEM 1\n",
    "    for para in paragraphs:\n",
    "        if (not select(para)):\n",
    "            paragraphs.remove(para)\n",
    "    if k<=(len(paragraphs)-1):\n",
    "        return paragraphs[k]\n",
    "    else:\n",
    "        return ''\n",
    "\n",
    "ps = ['LQa7i6tx', '7VNVwiz6', 'FiSMcoBy', 'CbkzHZd8Q', 'wTeIcJF', 'c5', '7qIhVzA']\n",
    "s = lambda p: p == '7qIhVzA' or p == 'CbkzHZd8Q' or p == 'c5' or p == 'wTeIcJF'\n",
    "pick(ps, s, 0)"
   ]
  },
  {
   "cell_type": "code",
   "execution_count": 7,
   "metadata": {},
   "outputs": [
    {
     "ename": "KeyboardInterrupt",
     "evalue": "",
     "output_type": "error",
     "traceback": [
      "\u001b[1;31m---------------------------------------------------------------------------\u001b[0m",
      "\u001b[1;31mKeyboardInterrupt\u001b[0m                         Traceback (most recent call last)",
      "Cell \u001b[1;32mIn[7], line 29\u001b[0m\n\u001b[0;32m     27\u001b[0m     \u001b[38;5;66;03m# END PROBLEM 2\u001b[39;00m\n\u001b[0;32m     28\u001b[0m dogs \u001b[38;5;241m=\u001b[39m about([\u001b[38;5;124m'\u001b[39m\u001b[38;5;124mdogs\u001b[39m\u001b[38;5;124m'\u001b[39m, \u001b[38;5;124m'\u001b[39m\u001b[38;5;124mhounds\u001b[39m\u001b[38;5;124m'\u001b[39m])\n\u001b[1;32m---> 29\u001b[0m \u001b[43mdogs\u001b[49m\u001b[43m(\u001b[49m\u001b[38;5;124;43m'\u001b[39;49m\u001b[38;5;124;43mA paragraph about cats.\u001b[39;49m\u001b[38;5;124;43m'\u001b[39;49m\u001b[43m)\u001b[49m\n",
      "Cell \u001b[1;32mIn[7], line 23\u001b[0m, in \u001b[0;36mabout.<locals>.judge\u001b[1;34m(para)\u001b[0m\n\u001b[0;32m     21\u001b[0m para\u001b[38;5;241m=\u001b[39msplit(lower(remove_punctuation(para)))\n\u001b[0;32m     22\u001b[0m \u001b[38;5;28;01mfor\u001b[39;00m word \u001b[38;5;129;01min\u001b[39;00m para:\n\u001b[1;32m---> 23\u001b[0m     \u001b[38;5;28;01mif\u001b[39;00m \u001b[43mword\u001b[49m \u001b[38;5;129;01min\u001b[39;00m subject:\n\u001b[0;32m     24\u001b[0m         \u001b[38;5;28;01mreturn\u001b[39;00m \u001b[38;5;28;01mFalse\u001b[39;00m\n\u001b[0;32m     25\u001b[0m \u001b[38;5;28;01mreturn\u001b[39;00m \u001b[38;5;28;01mTrue\u001b[39;00m\n",
      "Cell \u001b[1;32mIn[7], line 23\u001b[0m, in \u001b[0;36mabout.<locals>.judge\u001b[1;34m(para)\u001b[0m\n\u001b[0;32m     21\u001b[0m para\u001b[38;5;241m=\u001b[39msplit(lower(remove_punctuation(para)))\n\u001b[0;32m     22\u001b[0m \u001b[38;5;28;01mfor\u001b[39;00m word \u001b[38;5;129;01min\u001b[39;00m para:\n\u001b[1;32m---> 23\u001b[0m     \u001b[38;5;28;01mif\u001b[39;00m \u001b[43mword\u001b[49m \u001b[38;5;129;01min\u001b[39;00m subject:\n\u001b[0;32m     24\u001b[0m         \u001b[38;5;28;01mreturn\u001b[39;00m \u001b[38;5;28;01mFalse\u001b[39;00m\n\u001b[0;32m     25\u001b[0m \u001b[38;5;28;01mreturn\u001b[39;00m \u001b[38;5;28;01mTrue\u001b[39;00m\n",
      "File \u001b[1;32m_pydevd_bundle/pydevd_cython.pyx:1457\u001b[0m, in \u001b[0;36m_pydevd_bundle.pydevd_cython.SafeCallWrapper.__call__\u001b[1;34m()\u001b[0m\n",
      "File \u001b[1;32m_pydevd_bundle/pydevd_cython.pyx:701\u001b[0m, in \u001b[0;36m_pydevd_bundle.pydevd_cython.PyDBFrame.trace_dispatch\u001b[1;34m()\u001b[0m\n",
      "File \u001b[1;32m_pydevd_bundle/pydevd_cython.pyx:1395\u001b[0m, in \u001b[0;36m_pydevd_bundle.pydevd_cython.PyDBFrame.trace_dispatch\u001b[1;34m()\u001b[0m\n",
      "File \u001b[1;32m_pydevd_bundle/pydevd_cython.pyx:1344\u001b[0m, in \u001b[0;36m_pydevd_bundle.pydevd_cython.PyDBFrame.trace_dispatch\u001b[1;34m()\u001b[0m\n",
      "File \u001b[1;32m_pydevd_bundle/pydevd_cython.pyx:312\u001b[0m, in \u001b[0;36m_pydevd_bundle.pydevd_cython.PyDBFrame.do_wait_suspend\u001b[1;34m()\u001b[0m\n",
      "File \u001b[1;32mc:\\Users\\liminyang\\miniconda3\\Lib\\site-packages\\debugpy\\_vendored\\pydevd\\pydevd.py:2070\u001b[0m, in \u001b[0;36mPyDB.do_wait_suspend\u001b[1;34m(self, thread, frame, event, arg, exception_type)\u001b[0m\n\u001b[0;32m   2067\u001b[0m             from_this_thread\u001b[38;5;241m.\u001b[39mappend(frame_custom_thread_id)\n\u001b[0;32m   2069\u001b[0m     \u001b[38;5;28;01mwith\u001b[39;00m \u001b[38;5;28mself\u001b[39m\u001b[38;5;241m.\u001b[39m_threads_suspended_single_notification\u001b[38;5;241m.\u001b[39mnotify_thread_suspended(thread_id, thread, stop_reason):\n\u001b[1;32m-> 2070\u001b[0m         keep_suspended \u001b[38;5;241m=\u001b[39m \u001b[38;5;28;43mself\u001b[39;49m\u001b[38;5;241;43m.\u001b[39;49m\u001b[43m_do_wait_suspend\u001b[49m\u001b[43m(\u001b[49m\u001b[43mthread\u001b[49m\u001b[43m,\u001b[49m\u001b[43m \u001b[49m\u001b[43mframe\u001b[49m\u001b[43m,\u001b[49m\u001b[43m \u001b[49m\u001b[43mevent\u001b[49m\u001b[43m,\u001b[49m\u001b[43m \u001b[49m\u001b[43marg\u001b[49m\u001b[43m,\u001b[49m\u001b[43m \u001b[49m\u001b[43msuspend_type\u001b[49m\u001b[43m,\u001b[49m\u001b[43m \u001b[49m\u001b[43mfrom_this_thread\u001b[49m\u001b[43m,\u001b[49m\u001b[43m \u001b[49m\u001b[43mframes_tracker\u001b[49m\u001b[43m)\u001b[49m\n\u001b[0;32m   2072\u001b[0m frames_list \u001b[38;5;241m=\u001b[39m \u001b[38;5;28;01mNone\u001b[39;00m\n\u001b[0;32m   2074\u001b[0m \u001b[38;5;28;01mif\u001b[39;00m keep_suspended:\n\u001b[0;32m   2075\u001b[0m     \u001b[38;5;66;03m# This means that we should pause again after a set next statement.\u001b[39;00m\n",
      "File \u001b[1;32mc:\\Users\\liminyang\\miniconda3\\Lib\\site-packages\\debugpy\\_vendored\\pydevd\\pydevd.py:2106\u001b[0m, in \u001b[0;36mPyDB._do_wait_suspend\u001b[1;34m(self, thread, frame, event, arg, suspend_type, from_this_thread, frames_tracker)\u001b[0m\n\u001b[0;32m   2103\u001b[0m         \u001b[38;5;28mself\u001b[39m\u001b[38;5;241m.\u001b[39m_call_input_hook()\n\u001b[0;32m   2105\u001b[0m     \u001b[38;5;28mself\u001b[39m\u001b[38;5;241m.\u001b[39mprocess_internal_commands()\n\u001b[1;32m-> 2106\u001b[0m     time\u001b[38;5;241m.\u001b[39msleep(\u001b[38;5;241m0.01\u001b[39m)\n\u001b[0;32m   2108\u001b[0m \u001b[38;5;28mself\u001b[39m\u001b[38;5;241m.\u001b[39mcancel_async_evaluation(get_current_thread_id(thread), \u001b[38;5;28mstr\u001b[39m(\u001b[38;5;28mid\u001b[39m(frame)))\n\u001b[0;32m   2110\u001b[0m \u001b[38;5;66;03m# process any stepping instructions\u001b[39;00m\n",
      "\u001b[1;31mKeyboardInterrupt\u001b[0m: "
     ]
    }
   ],
   "source": [
    "from utils import lower, split, remove_punctuation, lines_from_file\n",
    "from ucb import main, interact, trace\n",
    "from datetime import datetime\n",
    "def about(subject):\n",
    "    \"\"\"Return a select function that returns whether\n",
    "    a paragraph contains one of the words in SUBJECT.\n",
    "\n",
    "    Arguments:\n",
    "        subject: a list of words related to a subject\n",
    "\n",
    "    >>> about_dogs = about(['dog', 'dogs', 'pup', 'puppy'])\n",
    "    >>> pick(['Cute Dog!', 'That is a cat.', 'Nice pup!'], about_dogs, 0)\n",
    "    'Cute Dog!'\n",
    "    >>> pick(['Cute Dog!', 'That is a cat.', 'Nice pup.'], about_dogs, 1)\n",
    "    'Nice pup.'\n",
    "    \"\"\"\n",
    "    assert all([lower(x) == x for x in subject]), 'subjects should be lowercase.'\n",
    "    # BEGIN PROBLEM 2\n",
    "    \"*** YOUR CODE HERE ***\"\n",
    "    def judge(para):\n",
    "        para=split(lower(remove_punctuation(para)))\n",
    "        for word in para:\n",
    "            if word in subject:\n",
    "                return False\n",
    "        return True\n",
    "    return judge\n",
    "    # END PROBLEM 2\n",
    "dogs = about(['dogs', 'hounds'])\n",
    "dogs('A paragraph about cats.')"
   ]
  },
  {
   "cell_type": "code",
   "execution_count": 10,
   "metadata": {},
   "outputs": [
    {
     "ename": "KeyboardInterrupt",
     "evalue": "",
     "output_type": "error",
     "traceback": [
      "\u001b[1;31m---------------------------------------------------------------------------\u001b[0m",
      "\u001b[1;31mKeyboardInterrupt\u001b[0m                         Traceback (most recent call last)",
      "Cell \u001b[1;32mIn[10], line 33\u001b[0m\n\u001b[0;32m     31\u001b[0m             correct\u001b[38;5;241m+\u001b[39m\u001b[38;5;241m=\u001b[39m\u001b[38;5;241m1\u001b[39m \n\u001b[0;32m     32\u001b[0m     \u001b[38;5;28;01mreturn\u001b[39;00m correct\u001b[38;5;241m/\u001b[39m\u001b[38;5;28mlen\u001b[39m(typed_words)\n\u001b[1;32m---> 33\u001b[0m \u001b[43maccuracy\u001b[49m\u001b[43m(\u001b[49m\u001b[38;5;124;43m\"\u001b[39;49m\u001b[38;5;124;43m12345\u001b[39;49m\u001b[38;5;124;43m\"\u001b[39;49m\u001b[43m,\u001b[49m\u001b[43m \u001b[49m\u001b[38;5;124;43m\"\u001b[39;49m\u001b[38;5;124;43m12345\u001b[39;49m\u001b[38;5;124;43m\"\u001b[39;49m\u001b[43m)\u001b[49m\n",
      "Cell \u001b[1;32mIn[10], line 25\u001b[0m, in \u001b[0;36maccuracy\u001b[1;34m(typed, source)\u001b[0m\n\u001b[0;32m      2\u001b[0m \u001b[38;5;250m\u001b[39m\u001b[38;5;124;03m\"\"\"Return the accuracy (percentage of words typed correctly) of TYPED\u001b[39;00m\n\u001b[0;32m      3\u001b[0m \u001b[38;5;124;03mwhen compared to the prefix of SOURCE that was typed.\u001b[39;00m\n\u001b[0;32m      4\u001b[0m \n\u001b[1;32m   (...)\u001b[0m\n\u001b[0;32m     22\u001b[0m \u001b[38;5;124;03m100.0\u001b[39;00m\n\u001b[0;32m     23\u001b[0m \u001b[38;5;124;03m\"\"\"\u001b[39;00m\n\u001b[0;32m     24\u001b[0m typed_words \u001b[38;5;241m=\u001b[39m split(typed)\n\u001b[1;32m---> 25\u001b[0m source_words \u001b[38;5;241m=\u001b[39m \u001b[43msplit\u001b[49m\u001b[43m(\u001b[49m\u001b[43msource\u001b[49m\u001b[43m)\u001b[49m\n\u001b[0;32m     26\u001b[0m \u001b[38;5;66;03m# BEGIN PROBLEM 3\u001b[39;00m\n\u001b[0;32m     27\u001b[0m \u001b[38;5;124m\"\u001b[39m\u001b[38;5;124m*** YOUR CODE HERE ***\u001b[39m\u001b[38;5;124m\"\u001b[39m\n",
      "File \u001b[1;32md:\\liminyang D\\CS61A\\project\\cats\\utils.py:45\u001b[0m, in \u001b[0;36msplit\u001b[1;34m(s)\u001b[0m\n\u001b[0;32m     38\u001b[0m \u001b[38;5;28;01mdef\u001b[39;00m \u001b[38;5;21msplit\u001b[39m(s):\n\u001b[0;32m     39\u001b[0m \u001b[38;5;250m    \u001b[39m\u001b[38;5;124;03m\"\"\"Return a list of words contained in s, which are sequences of characters\u001b[39;00m\n\u001b[0;32m     40\u001b[0m \u001b[38;5;124;03m    separated by whitespace (spaces, tabs, etc.).\u001b[39;00m\n\u001b[0;32m     41\u001b[0m \n\u001b[0;32m     42\u001b[0m \u001b[38;5;124;03m    >>> split(\"It's a lovely day, don't you think?\")\u001b[39;00m\n\u001b[0;32m     43\u001b[0m \u001b[38;5;124;03m    [\"It's\", 'a', 'lovely', 'day,', \"don't\", 'you', 'think?']\u001b[39;00m\n\u001b[0;32m     44\u001b[0m \u001b[38;5;124;03m    \"\"\"\u001b[39;00m\n\u001b[1;32m---> 45\u001b[0m     \u001b[38;5;28;01mreturn\u001b[39;00m s\u001b[38;5;241m.\u001b[39msplit()\n",
      "File \u001b[1;32m_pydevd_bundle/pydevd_cython.pyx:1457\u001b[0m, in \u001b[0;36m_pydevd_bundle.pydevd_cython.SafeCallWrapper.__call__\u001b[1;34m()\u001b[0m\n",
      "File \u001b[1;32m_pydevd_bundle/pydevd_cython.pyx:701\u001b[0m, in \u001b[0;36m_pydevd_bundle.pydevd_cython.PyDBFrame.trace_dispatch\u001b[1;34m()\u001b[0m\n",
      "File \u001b[1;32m_pydevd_bundle/pydevd_cython.pyx:1395\u001b[0m, in \u001b[0;36m_pydevd_bundle.pydevd_cython.PyDBFrame.trace_dispatch\u001b[1;34m()\u001b[0m\n",
      "File \u001b[1;32m_pydevd_bundle/pydevd_cython.pyx:1373\u001b[0m, in \u001b[0;36m_pydevd_bundle.pydevd_cython.PyDBFrame.trace_dispatch\u001b[1;34m()\u001b[0m\n",
      "File \u001b[1;32m_pydevd_bundle/pydevd_cython.pyx:312\u001b[0m, in \u001b[0;36m_pydevd_bundle.pydevd_cython.PyDBFrame.do_wait_suspend\u001b[1;34m()\u001b[0m\n",
      "File \u001b[1;32mc:\\Users\\liminyang\\miniconda3\\Lib\\site-packages\\debugpy\\_vendored\\pydevd\\pydevd.py:2070\u001b[0m, in \u001b[0;36mPyDB.do_wait_suspend\u001b[1;34m(self, thread, frame, event, arg, exception_type)\u001b[0m\n\u001b[0;32m   2067\u001b[0m             from_this_thread\u001b[38;5;241m.\u001b[39mappend(frame_custom_thread_id)\n\u001b[0;32m   2069\u001b[0m     \u001b[38;5;28;01mwith\u001b[39;00m \u001b[38;5;28mself\u001b[39m\u001b[38;5;241m.\u001b[39m_threads_suspended_single_notification\u001b[38;5;241m.\u001b[39mnotify_thread_suspended(thread_id, thread, stop_reason):\n\u001b[1;32m-> 2070\u001b[0m         keep_suspended \u001b[38;5;241m=\u001b[39m \u001b[38;5;28;43mself\u001b[39;49m\u001b[38;5;241;43m.\u001b[39;49m\u001b[43m_do_wait_suspend\u001b[49m\u001b[43m(\u001b[49m\u001b[43mthread\u001b[49m\u001b[43m,\u001b[49m\u001b[43m \u001b[49m\u001b[43mframe\u001b[49m\u001b[43m,\u001b[49m\u001b[43m \u001b[49m\u001b[43mevent\u001b[49m\u001b[43m,\u001b[49m\u001b[43m \u001b[49m\u001b[43marg\u001b[49m\u001b[43m,\u001b[49m\u001b[43m \u001b[49m\u001b[43msuspend_type\u001b[49m\u001b[43m,\u001b[49m\u001b[43m \u001b[49m\u001b[43mfrom_this_thread\u001b[49m\u001b[43m,\u001b[49m\u001b[43m \u001b[49m\u001b[43mframes_tracker\u001b[49m\u001b[43m)\u001b[49m\n\u001b[0;32m   2072\u001b[0m frames_list \u001b[38;5;241m=\u001b[39m \u001b[38;5;28;01mNone\u001b[39;00m\n\u001b[0;32m   2074\u001b[0m \u001b[38;5;28;01mif\u001b[39;00m keep_suspended:\n\u001b[0;32m   2075\u001b[0m     \u001b[38;5;66;03m# This means that we should pause again after a set next statement.\u001b[39;00m\n",
      "File \u001b[1;32mc:\\Users\\liminyang\\miniconda3\\Lib\\site-packages\\debugpy\\_vendored\\pydevd\\pydevd.py:2106\u001b[0m, in \u001b[0;36mPyDB._do_wait_suspend\u001b[1;34m(self, thread, frame, event, arg, suspend_type, from_this_thread, frames_tracker)\u001b[0m\n\u001b[0;32m   2103\u001b[0m         \u001b[38;5;28mself\u001b[39m\u001b[38;5;241m.\u001b[39m_call_input_hook()\n\u001b[0;32m   2105\u001b[0m     \u001b[38;5;28mself\u001b[39m\u001b[38;5;241m.\u001b[39mprocess_internal_commands()\n\u001b[1;32m-> 2106\u001b[0m     time\u001b[38;5;241m.\u001b[39msleep(\u001b[38;5;241m0.01\u001b[39m)\n\u001b[0;32m   2108\u001b[0m \u001b[38;5;28mself\u001b[39m\u001b[38;5;241m.\u001b[39mcancel_async_evaluation(get_current_thread_id(thread), \u001b[38;5;28mstr\u001b[39m(\u001b[38;5;28mid\u001b[39m(frame)))\n\u001b[0;32m   2110\u001b[0m \u001b[38;5;66;03m# process any stepping instructions\u001b[39;00m\n",
      "\u001b[1;31mKeyboardInterrupt\u001b[0m: "
     ]
    }
   ],
   "source": [
    "def accuracy(typed, source):\n",
    "    \"\"\"Return the accuracy (percentage of words typed correctly) of TYPED\n",
    "    when compared to the prefix of SOURCE that was typed.\n",
    "\n",
    "    Arguments:\n",
    "        typed: a string that may contain typos\n",
    "        source: a string without errors\n",
    "\n",
    "    >>> accuracy('Cute Dog!', 'Cute Dog.')\n",
    "    50.0\n",
    "    >>> accuracy('A Cute Dog!', 'Cute Dog.')\n",
    "    0.0\n",
    "    >>> accuracy('cute Dog.', 'Cute Dog.')\n",
    "    50.0\n",
    "    >>> accuracy('Cute Dog. I say!', 'Cute Dog.')\n",
    "    50.0\n",
    "    >>> accuracy('Cute', 'Cute Dog.')\n",
    "    100.0\n",
    "    >>> accuracy('', 'Cute Dog.')\n",
    "    0.0\n",
    "    >>> accuracy('', '')\n",
    "    100.0\n",
    "    \"\"\"\n",
    "    typed_words = split(typed)\n",
    "    source_words = split(source)\n",
    "    # BEGIN PROBLEM 3\n",
    "    \"*** YOUR CODE HERE ***\"\n",
    "    correct=0\n",
    "    for i in range(len(source_words)-1):\n",
    "        if typed_words[i]==source_words[i]:\n",
    "            correct+=1 \n",
    "    return correct/len(typed_words)\n",
    "accuracy(\"12345\", \"12345\")"
   ]
  },
  {
   "cell_type": "code",
   "execution_count": 11,
   "metadata": {},
   "outputs": [
    {
     "data": {
      "text/plain": [
       "6"
      ]
     },
     "execution_count": 11,
     "metadata": {},
     "output_type": "execute_result"
    }
   ],
   "source": [
    "len(\"i love\")"
   ]
  },
  {
   "cell_type": "code",
   "execution_count": 13,
   "metadata": {},
   "outputs": [
    {
     "ename": "KeyboardInterrupt",
     "evalue": "",
     "output_type": "error",
     "traceback": [
      "\u001b[1;31m---------------------------------------------------------------------------\u001b[0m",
      "\u001b[1;31mKeyboardInterrupt\u001b[0m                         Traceback (most recent call last)",
      "Cell \u001b[1;32mIn[13], line 36\u001b[0m\n\u001b[0;32m     34\u001b[0m             \u001b[38;5;28;01mreturn\u001b[39;00m min_word\n\u001b[0;32m     35\u001b[0m abs_diff \u001b[38;5;241m=\u001b[39m \u001b[38;5;28;01mlambda\u001b[39;00m w1, w2, limit: \u001b[38;5;28mabs\u001b[39m(\u001b[38;5;28mlen\u001b[39m(w2) \u001b[38;5;241m-\u001b[39m \u001b[38;5;28mlen\u001b[39m(w1))\n\u001b[1;32m---> 36\u001b[0m \u001b[43mautocorrect\u001b[49m\u001b[43m(\u001b[49m\u001b[38;5;124;43m\"\u001b[39;49m\u001b[38;5;124;43mcul\u001b[39;49m\u001b[38;5;124;43m\"\u001b[39;49m\u001b[43m,\u001b[49m\u001b[43m \u001b[49m\u001b[43m[\u001b[49m\u001b[38;5;124;43m\"\u001b[39;49m\u001b[38;5;124;43mculture\u001b[39;49m\u001b[38;5;124;43m\"\u001b[39;49m\u001b[43m,\u001b[49m\u001b[43m \u001b[49m\u001b[38;5;124;43m\"\u001b[39;49m\u001b[38;5;124;43mcult\u001b[39;49m\u001b[38;5;124;43m\"\u001b[39;49m\u001b[43m,\u001b[49m\u001b[43m \u001b[49m\u001b[38;5;124;43m\"\u001b[39;49m\u001b[38;5;124;43mcultivate\u001b[39;49m\u001b[38;5;124;43m\"\u001b[39;49m\u001b[43m]\u001b[49m\u001b[43m,\u001b[49m\u001b[43m \u001b[49m\u001b[43mabs_diff\u001b[49m\u001b[43m,\u001b[49m\u001b[43m \u001b[49m\u001b[38;5;241;43m10\u001b[39;49m\u001b[43m)\u001b[49m\n",
      "Cell \u001b[1;32mIn[13], line 27\u001b[0m, in \u001b[0;36mautocorrect\u001b[1;34m(typed_word, word_list, diff_function, limit)\u001b[0m\n\u001b[0;32m     25\u001b[0m min_diff\u001b[38;5;241m=\u001b[39m\u001b[38;5;241m0\u001b[39m\n\u001b[0;32m     26\u001b[0m min_word\u001b[38;5;241m=\u001b[39m\u001b[38;5;124m'\u001b[39m\u001b[38;5;124ma\u001b[39m\u001b[38;5;124m'\u001b[39m\n\u001b[1;32m---> 27\u001b[0m \u001b[38;5;28;01mfor\u001b[39;00m word \u001b[38;5;129;01min\u001b[39;00m \u001b[43mword_list\u001b[49m:\n\u001b[0;32m     28\u001b[0m     \u001b[38;5;28;01mif\u001b[39;00m diff_function(typed_word,word,limit)\u001b[38;5;241m<\u001b[39mmin_diff:\n\u001b[0;32m     29\u001b[0m         min_diff\u001b[38;5;241m=\u001b[39mdiff_function(typed_word,word,limit)\n",
      "Cell \u001b[1;32mIn[13], line 27\u001b[0m, in \u001b[0;36mautocorrect\u001b[1;34m(typed_word, word_list, diff_function, limit)\u001b[0m\n\u001b[0;32m     25\u001b[0m min_diff\u001b[38;5;241m=\u001b[39m\u001b[38;5;241m0\u001b[39m\n\u001b[0;32m     26\u001b[0m min_word\u001b[38;5;241m=\u001b[39m\u001b[38;5;124m'\u001b[39m\u001b[38;5;124ma\u001b[39m\u001b[38;5;124m'\u001b[39m\n\u001b[1;32m---> 27\u001b[0m \u001b[38;5;28;01mfor\u001b[39;00m word \u001b[38;5;129;01min\u001b[39;00m \u001b[43mword_list\u001b[49m:\n\u001b[0;32m     28\u001b[0m     \u001b[38;5;28;01mif\u001b[39;00m diff_function(typed_word,word,limit)\u001b[38;5;241m<\u001b[39mmin_diff:\n\u001b[0;32m     29\u001b[0m         min_diff\u001b[38;5;241m=\u001b[39mdiff_function(typed_word,word,limit)\n",
      "File \u001b[1;32m_pydevd_bundle/pydevd_cython.pyx:1457\u001b[0m, in \u001b[0;36m_pydevd_bundle.pydevd_cython.SafeCallWrapper.__call__\u001b[1;34m()\u001b[0m\n",
      "File \u001b[1;32m_pydevd_bundle/pydevd_cython.pyx:701\u001b[0m, in \u001b[0;36m_pydevd_bundle.pydevd_cython.PyDBFrame.trace_dispatch\u001b[1;34m()\u001b[0m\n",
      "File \u001b[1;32m_pydevd_bundle/pydevd_cython.pyx:1395\u001b[0m, in \u001b[0;36m_pydevd_bundle.pydevd_cython.PyDBFrame.trace_dispatch\u001b[1;34m()\u001b[0m\n",
      "File \u001b[1;32m_pydevd_bundle/pydevd_cython.pyx:1344\u001b[0m, in \u001b[0;36m_pydevd_bundle.pydevd_cython.PyDBFrame.trace_dispatch\u001b[1;34m()\u001b[0m\n",
      "File \u001b[1;32m_pydevd_bundle/pydevd_cython.pyx:312\u001b[0m, in \u001b[0;36m_pydevd_bundle.pydevd_cython.PyDBFrame.do_wait_suspend\u001b[1;34m()\u001b[0m\n",
      "File \u001b[1;32mc:\\Users\\liminyang\\miniconda3\\Lib\\site-packages\\debugpy\\_vendored\\pydevd\\pydevd.py:2070\u001b[0m, in \u001b[0;36mPyDB.do_wait_suspend\u001b[1;34m(self, thread, frame, event, arg, exception_type)\u001b[0m\n\u001b[0;32m   2067\u001b[0m             from_this_thread\u001b[38;5;241m.\u001b[39mappend(frame_custom_thread_id)\n\u001b[0;32m   2069\u001b[0m     \u001b[38;5;28;01mwith\u001b[39;00m \u001b[38;5;28mself\u001b[39m\u001b[38;5;241m.\u001b[39m_threads_suspended_single_notification\u001b[38;5;241m.\u001b[39mnotify_thread_suspended(thread_id, thread, stop_reason):\n\u001b[1;32m-> 2070\u001b[0m         keep_suspended \u001b[38;5;241m=\u001b[39m \u001b[38;5;28;43mself\u001b[39;49m\u001b[38;5;241;43m.\u001b[39;49m\u001b[43m_do_wait_suspend\u001b[49m\u001b[43m(\u001b[49m\u001b[43mthread\u001b[49m\u001b[43m,\u001b[49m\u001b[43m \u001b[49m\u001b[43mframe\u001b[49m\u001b[43m,\u001b[49m\u001b[43m \u001b[49m\u001b[43mevent\u001b[49m\u001b[43m,\u001b[49m\u001b[43m \u001b[49m\u001b[43marg\u001b[49m\u001b[43m,\u001b[49m\u001b[43m \u001b[49m\u001b[43msuspend_type\u001b[49m\u001b[43m,\u001b[49m\u001b[43m \u001b[49m\u001b[43mfrom_this_thread\u001b[49m\u001b[43m,\u001b[49m\u001b[43m \u001b[49m\u001b[43mframes_tracker\u001b[49m\u001b[43m)\u001b[49m\n\u001b[0;32m   2072\u001b[0m frames_list \u001b[38;5;241m=\u001b[39m \u001b[38;5;28;01mNone\u001b[39;00m\n\u001b[0;32m   2074\u001b[0m \u001b[38;5;28;01mif\u001b[39;00m keep_suspended:\n\u001b[0;32m   2075\u001b[0m     \u001b[38;5;66;03m# This means that we should pause again after a set next statement.\u001b[39;00m\n",
      "File \u001b[1;32mc:\\Users\\liminyang\\miniconda3\\Lib\\site-packages\\debugpy\\_vendored\\pydevd\\pydevd.py:2106\u001b[0m, in \u001b[0;36mPyDB._do_wait_suspend\u001b[1;34m(self, thread, frame, event, arg, suspend_type, from_this_thread, frames_tracker)\u001b[0m\n\u001b[0;32m   2103\u001b[0m         \u001b[38;5;28mself\u001b[39m\u001b[38;5;241m.\u001b[39m_call_input_hook()\n\u001b[0;32m   2105\u001b[0m     \u001b[38;5;28mself\u001b[39m\u001b[38;5;241m.\u001b[39mprocess_internal_commands()\n\u001b[1;32m-> 2106\u001b[0m     time\u001b[38;5;241m.\u001b[39msleep(\u001b[38;5;241m0.01\u001b[39m)\n\u001b[0;32m   2108\u001b[0m \u001b[38;5;28mself\u001b[39m\u001b[38;5;241m.\u001b[39mcancel_async_evaluation(get_current_thread_id(thread), \u001b[38;5;28mstr\u001b[39m(\u001b[38;5;28mid\u001b[39m(frame)))\n\u001b[0;32m   2110\u001b[0m \u001b[38;5;66;03m# process any stepping instructions\u001b[39;00m\n",
      "\u001b[1;31mKeyboardInterrupt\u001b[0m: "
     ]
    }
   ],
   "source": [
    "def autocorrect(typed_word, word_list, diff_function, limit):\n",
    "    \"\"\"Returns the element of WORD_LIST that has the smallest difference\n",
    "    from TYPED_WORD. If multiple words are tied for the smallest difference,\n",
    "    return the one that appears closest to the front of WORD_LIST. If the\n",
    "    difference is greater than LIMIT, instead return TYPED_WORD.\n",
    "\n",
    "    Arguments:\n",
    "        typed_word: a string representing a word that may contain typos\n",
    "        word_list: a list of strings representing source words\n",
    "        diff_function: a function quantifying the difference between two words\n",
    "        limit: a number\n",
    "\n",
    "    >>> ten_diff = lambda w1, w2, limit: 10 # Always returns 10\n",
    "    >>> autocorrect(\"hwllo\", [\"butter\", \"hello\", \"potato\"], ten_diff, 20)\n",
    "    'butter'\n",
    "    >>> first_diff = lambda w1, w2, limit: (1 if w1[0] != w2[0] else 0) # Checks for matching first char\n",
    "    >>> autocorrect(\"tosting\", [\"testing\", \"asking\", \"fasting\"], first_diff, 10)\n",
    "    'testing'\n",
    "    \"\"\"\n",
    "    # BEGIN PROBLEM 5\n",
    "    \"*** YOUR CODE HERE ***\"\n",
    "    if typed_word in word_list:\n",
    "        return typed_word\n",
    "    else:\n",
    "        min_diff=0\n",
    "        min_word='a'\n",
    "        for word in word_list:\n",
    "            if diff_function(typed_word,word,limit)<min_diff:\n",
    "                min_diff=diff_function(typed_word,word,limit)\n",
    "                min_word=word\n",
    "        if diff_function(typed_word,min_word,limit)>limit:\n",
    "            return typed_word\n",
    "        else:\n",
    "            return min_word\n",
    "abs_diff = lambda w1, w2, limit: abs(len(w2) - len(w1))\n",
    "autocorrect(\"cul\", [\"culture\", \"cult\", \"cultivate\"], abs_diff, 10)"
   ]
  },
  {
   "cell_type": "code",
   "execution_count": 1,
   "metadata": {},
   "outputs": [
    {
     "data": {
      "text/plain": [
       "4"
      ]
     },
     "execution_count": 1,
     "metadata": {},
     "output_type": "execute_result"
    }
   ],
   "source": [
    "def feline_fixes(typed, source, limit):\n",
    "    \"\"\"A diff function for autocorrect that determines how many letters\n",
    "    in TYPED need to be substituted to create SOURCE, then adds the difference in\n",
    "    their lengths and returns the result.\n",
    "\n",
    "    Arguments:\n",
    "        typed: a starting word\n",
    "        source: a string representing a desired goal word\n",
    "        limit: a number representing an upper bound on the number of chars that must change\n",
    "\n",
    "    >>> big_limit = 10\n",
    "    >>> feline_fixes(\"nice\", \"rice\", big_limit)    # Substitute: n -> r\n",
    "    1\n",
    "    >>> feline_fixes(\"range\", \"rungs\", big_limit)  # Substitute: a -> u, e -> s\n",
    "    2\n",
    "    >>> feline_fixes(\"pill\", \"pillage\", big_limit) # Don't substitute anything, length difference of 3.\n",
    "    3\n",
    "    >>> feline_fixes(\"roses\", \"arose\", big_limit)  # Substitute: r -> a, o -> r, s -> o, e -> s, s -> e\n",
    "    5\n",
    "    >>> feline_fixes(\"rose\", \"hello\", big_limit)   # Substitute: r->h, o->e, s->l, e->l, length difference of 1.\n",
    "    5\n",
    "    \"\"\"\n",
    "    # BEGIN PROBLEM 6\n",
    "    def feline_basic(typed,source):\n",
    "        if len(typed)==len(source):\n",
    "            if len(typed)==0:\n",
    "                return 0\n",
    "            else:\n",
    "                if typed[0]!=source[0]:\n",
    "                    return 1+feline_basic(typed[1:], source[1:])\n",
    "                else:\n",
    "                    return feline_basic(typed[1:], source[1:]) \n",
    "        else:\n",
    "            len_diff=abs(len(typed)-len(source))\n",
    "            if len(typed)>len(source):\n",
    "                return len_diff+feline_basic(typed[:len(source)],source)\n",
    "            else:\n",
    "                return len_diff+feline_basic(typed,source[:len(typed)]) \n",
    "    if feline_basic(typed,source)<=limit:\n",
    "        return feline_basic(typed,source)\n",
    "    else:\n",
    "        return limit+1       \n",
    "    # END PROBLEM 6\n",
    "feline_fixes(\"someaweqwertyuio\", \"awesomeasdfghjkl\", 3)"
   ]
  },
  {
   "cell_type": "code",
   "execution_count": null,
   "metadata": {},
   "outputs": [],
   "source": [
    "def minimum_mewtations(typed, source, limit):\n",
    "    def minimum_basic(typed, source, changes):\n",
    "        if changes > limit:\n",
    "            return limit + 1  \n",
    "        if len(typed) == 0:\n",
    "            return len(source) + changes\n",
    "        if len(source) == 0:\n",
    "            return len(typed) + changes\n",
    "        if typed[0] == source[0]:\n",
    "            return minimum_basic(typed[1:], source[1:], changes)\n",
    "        else:\n",
    "            add=minimum_basic(typed, source[1:], changes + 1)\n",
    "            remove=minimum_basic(typed[1:], source, changes + 1)\n",
    "            substitute=minimum_basic(typed[1:], source[1:], changes + 1)\n",
    "            return min(add,remove,substitute)\n",
    "    return minimum_basic(typed, source, 0)"
   ]
  }
 ],
 "metadata": {
  "kernelspec": {
   "display_name": "base",
   "language": "python",
   "name": "python3"
  },
  "language_info": {
   "codemirror_mode": {
    "name": "ipython",
    "version": 3
   },
   "file_extension": ".py",
   "mimetype": "text/x-python",
   "name": "python",
   "nbconvert_exporter": "python",
   "pygments_lexer": "ipython3",
   "version": "3.11.5"
  }
 },
 "nbformat": 4,
 "nbformat_minor": 2
}
